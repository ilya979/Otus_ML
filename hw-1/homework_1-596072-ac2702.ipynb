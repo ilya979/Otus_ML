{
  "cells": [
    {
      "cell_type": "markdown",
      "metadata": {
        "id": "rL70m2sic0jV"
      },
      "source": [
        "# <center> Homework 1 </center>"
      ]
    },
    {
      "cell_type": "markdown",
      "metadata": {
        "id": "JVd5jRlPc0jY"
      },
      "source": [
        "# 0. Где мы сейчас?\n",
        "<img src=\"https://upload.wikimedia.org/wikipedia/commons/thumb/3/38/Jupyter_logo.svg/1200px-Jupyter_logo.svg.png\" width=\"150\">\n",
        "\n",
        "[Jupyter Notebook](https://jupyter.org/) - интерактивная среда для запуска программного кода в браузере. Удобный инструмент для анализа данных, который используется многими специалистами по data science. Позволяет выполнять отдельные ячейки с кодом, а не всю программу сразу, что очень удобно при знакомстве с данными."
      ]
    },
    {
      "cell_type": "markdown",
      "metadata": {
        "id": "k8hj3Kdvc0jZ"
      },
      "source": [
        "# 1. Python\n",
        "> Python - это свободный интерпретируемый объектно-ориентированный расширяемый встраиваемый язык программирования очень высокого уровня\n",
        "\n",
        ">*(Г.Россум, Ф.Л.Дж.Дрейк, Д.С.Откидач \"Язык программирования Python\").*\n",
        "\n",
        "А если без цитат, то питон - это просто очень крутой язык, созданный в 1991 году [Великодушным пожизненным диктатором](https://ru.wikipedia.org/wiki/%D0%92%D0%B5%D0%BB%D0%B8%D0%BA%D0%BE%D0%B4%D1%83%D1%88%D0%BD%D1%8B%D0%B9_%D0%BF%D0%BE%D0%B6%D0%B8%D0%B7%D0%BD%D0%B5%D0%BD%D0%BD%D1%8B%D0%B9_%D0%B4%D0%B8%D0%BA%D1%82%D0%B0%D1%82%D0%BE%D1%80) Гвидо ван Россумом и названный в честь любимого им шоу [Monty Python's Flying Circus](https://en.wikipedia.org/wiki/Monty_Python%27s_Flying_Circus)\n",
        "\n",
        "<img src=\"https://advancelocal-adapter-image-uploads.s3.amazonaws.com/image.oregonlive.com/home/olive-media/width2048/img/tv/photo/2018/10/10/montycastjpg-7ef393e2355a42aa.jpg\" width=\"300\">"
      ]
    },
    {
      "cell_type": "markdown",
      "metadata": {
        "id": "llQ9RXHfc0ja"
      },
      "source": [
        "# 2. Anaconda\n",
        "\n",
        "[Сборка Anaconda](https://www.anaconda.com/products/individual) включает очень много полезных библиотек для анализа данных.\n",
        "\n",
        "Среди наиболее популярных библиотек:\n",
        " - <a href=\"http://numpy.org\">Numpy</a> - это один из основных пакетов для математических вычислений. Он содержит средства для работы с многомерными массивами и высокоуровневыми математическими функциями\n",
        " - <a href=\"https://www.scipy.org/\">SciPy</a> - научные вычисления. Методы оптимизации, интегрирования, модули обработки сигналов и изображений, статистика, линейная алгебра, сплайны, кластеризация и многое другое\n",
        " -  <a href=\"http://pandas.pydata.org/\">Pandas</a> - основная библиотека для обработки и анализа данных. Предназначена для данных разной природы - матричных, панельных данных, временных рядов. Претендует на звание самого мощного и гибкого средства для анализа данных с открытым исходным кодом\n",
        " - <a href=\"http://scikit-learn.org/stable/\">Scikit-learn</a> - реализация очень многих методов машинного обучения с отличной документацией.\n",
        " - <a href=\"http://http://matplotlib.org/\">matplotlib</a> - хорошая библиотека для визуализации данных\n",
        "\n",
        " С этими библиотеками вы будете знакомится дальше на курсе, а пока давайте попрактикуемся в решении базовых задач на  чистом Python."
      ]
    },
    {
      "cell_type": "markdown",
      "metadata": {
        "id": "rfAcLe-Tc0ja"
      },
      "source": [
        "# 3. Задачки"
      ]
    },
    {
      "cell_type": "markdown",
      "metadata": {
        "id": "y7gWqyZpc0jb"
      },
      "source": [
        "## Задача 1\n",
        "$N$ хоббитов делят $K$ кусков эльфийского хлеба поровну, не делящийся нацело остаток остается в корзинке у Сэма. Напишите функцию, которая принимает на вход параметры $N$ и $K$ и возвращает два числа: $x$ - cколько кусков эльфиского хлеба достанется каждому хоббиту, и $y$ - сколько кусков остаётся в корзинке."
      ]
    },
    {
      "cell_type": "code",
      "execution_count": 1,
      "metadata": {
        "id": "m9mteFtwc0jb"
      },
      "outputs": [],
      "source": [
        "def share_bread(N, K):\n",
        "    x = K // N\n",
        "    y = K % N \n",
        "    return x, y\n",
        "\n",
        "# если в функции всё верно, то после выполнения этой строчки, не должно выскакивать ошибок\n",
        "assert share_bread(N=3, K=14) == (4, 2)"
      ]
    },
    {
      "cell_type": "markdown",
      "metadata": {
        "id": "i24Th8I7c0jc"
      },
      "source": [
        "## Задача 2\n",
        "\n",
        "В копях Мории хоббиты нашли стену, на которой высечены разные натуральные числа. Согласно древним сказаниям, это даты сражений. Хоббиты знают, что сражения происходили только по високосным годам. Помогите хоббитам определить, является ли год с данным числом датой великого сражения. Если это так, то верните строку \"YOU SHALL PASS\", иначе верните \"YOU SHALL NOT PASS\". Напомним, что в соответствии с хоббитским календарем, год является високосным, если его номер кратен 4, но не кратен 100, а также если он кратен 400."
      ]
    },
    {
      "cell_type": "code",
      "execution_count": 2,
      "metadata": {
        "id": "3SnU33pPc0jc"
      },
      "outputs": [],
      "source": [
        "def leap_year(year):\n",
        "    if year % 400 == 0:\n",
        "        text_result = \"YOU SHALL PASS\"\n",
        "    elif year % 100 == 0:\n",
        "        text_result = \"YOU SHALL NOT PASS\"\n",
        "    elif year % 4 == 0:\n",
        "        text_result = \"YOU SHALL PASS\"\n",
        "    else:\n",
        "        text_result = \"YOU SHALL NOT PASS\"\n",
        "    return text_result\n",
        "\n",
        "assert leap_year(5) == 'YOU SHALL NOT PASS'"
      ]
    },
    {
      "cell_type": "markdown",
      "metadata": {
        "id": "-oibBIG4c0jd"
      },
      "source": [
        "## Задача 3\n",
        "<img src=\"http://i0.kym-cdn.com/photos/images/original/001/187/255/5e9.gif\" width=300>\n",
        "\n",
        "\n",
        "Для могущественного магического ритуала Гендальфу необходимо быстро подсчитывать площадь своего амулета, который умеет менять размеры. Известно, что амулет имеет форму треугольника и Гендальф знает длину каждой из сторон. Напишите функцию, которая считает площадь амулета по трем сторонам.  \n",
        "\n",
        "**Подсказка:** используйте формулу Герона\n",
        "$$ S = \\sqrt{p(p-a)(p-b)(p-c)} $$\n",
        "$$ p = \\frac{a + b + c}{2}$$\n"
      ]
    },
    {
      "cell_type": "code",
      "execution_count": 3,
      "metadata": {
        "id": "Uln7wcTVc0jd"
      },
      "outputs": [],
      "source": [
        "import math\n",
        "\n",
        "def amulet_area(a, b, c):\n",
        "    p = (a+b+c)/2\n",
        "    S = math.sqrt(p * (p-a) * (p-b) * (p-c))\n",
        "    return S\n",
        "\n",
        "assert amulet_area(3, 4, 5) == 6"
      ]
    },
    {
      "cell_type": "markdown",
      "metadata": {
        "id": "Os5KM6bQc0jd"
      },
      "source": [
        "## Задача 4\n",
        "\n",
        "Хоббиты собираются пешком идти до Мордора и им нужно подсчитать расстояние, которое им предстоит пройти. Хоббиты смогли вспомнить сразу несколько метрик расстояния: евклидово, манхэттена и косинусное, так что ваша задача - написать функцию под каждую из них. Важное условие - используйте только базовые функции для решения.\n",
        "\n",
        "\n",
        "* Евклидово расстояние\n",
        "$$ d(a, b) = \\sqrt{\\sum_i (a_i - b_i)^2} $$\n",
        "* Расстояние Манхэттена\n",
        "$$ d(a, b) = \\sum_i |a_i - b_i| $$\n",
        "* Косинусное расстояние\n",
        "$$ d(a, b) = 1 - \\frac{a^\\top b}{||a||_2\\cdot||b||_2}$$"
      ]
    },
    {
      "cell_type": "code",
      "execution_count": 23,
      "metadata": {
        "id": "_21LOuZRc0jd"
      },
      "outputs": [],
      "source": [
        "import math\n",
        "\n",
        "def cal_euclidean(a, b):\n",
        "    distance = 0\n",
        "    for (_a, _b) in zip(a, b):\n",
        "        # print(f\" -- {distance}\")\n",
        "        distance += (_a-_b)*(_a-_b)\n",
        "    distance = math.sqrt(distance)\n",
        "    return distance\n",
        "\n",
        "def cal_manhattan(a, b):\n",
        "    distance = 0\n",
        "    for (_a, _b) in zip(a, b):\n",
        "        # print(f\" -- {distance}\")\n",
        "        distance += abs(_a-_b)\n",
        "    return distance\n",
        "\n",
        "def cal_cosine(a, b):\n",
        "    # Скалярное произведение\n",
        "    scalar = 0\n",
        "    for (_a, _b) in zip(a, b):\n",
        "        scalar += _a*_b\n",
        "    \n",
        "    # Нормы векторов a\n",
        "    n_a = 0\n",
        "    for _a in a:\n",
        "        n_a += _a*_a\n",
        "    n_a = math.sqrt(n_a)\n",
        "    \n",
        "    # и b\n",
        "    n_b = 0\n",
        "    for _b in b:\n",
        "        n_b += _b*_b\n",
        "    n_b = math.sqrt(n_b)\n",
        "    \n",
        "    distance = 1-scalar/n_a/n_b\n",
        "    return distance"
      ]
    },
    {
      "cell_type": "code",
      "execution_count": 24,
      "metadata": {
        "id": "fvyqAKchc0je"
      },
      "outputs": [
        {
          "name": "stdout",
          "output_type": "stream",
          "text": [
            "[-4  0 -7  2  4  5 -6  8  4  6]\n",
            "[-2  9 -3 -4 -7 -5 -8 -6  3 -5]\n",
            "26.076809620810597\n",
            "70\n",
            "1.1732230968958528\n"
          ]
        }
      ],
      "source": [
        "import numpy as np \n",
        "\n",
        "a = np.random.randint(-10, 10, size=10)\n",
        "b = np.random.randint(-10, 10, size=10)\n",
        "print(a)\n",
        "print(b)\n",
        "print(cal_euclidean(a, b))\n",
        "print(cal_manhattan(a, b))\n",
        "print(cal_cosine(a, b))"
      ]
    },
    {
      "cell_type": "markdown",
      "metadata": {
        "id": "w1L3GDw3c0je"
      },
      "source": [
        "## Задача 5* (бонусное неоцениваемое задание)\n",
        "\n",
        "**Замечание:** Поскольку библиотеку numpy мы будем подробно разбирать дальше, то это задание является бонусным, его выполнение необязательно для сдачи ДЗ и не влияет на итоговый балл. Как вариант, можете вернуться к нему после прохождения numpy ;)\n",
        "\n"
      ]
    },
    {
      "cell_type": "markdown",
      "metadata": {
        "id": "aEDIBiRpc0je"
      },
      "source": [
        "Создайте случайный array (`np.random.rand()`) длинной 100. Преобразуйте его так, чтобы\n",
        "* Максимальный элемент(ы) был равен 1\n",
        "* Минимальный элемент(ы) был равен 0\n",
        "* Остальные элементы в интервале от 0 до 1 остаются прежними"
      ]
    },
    {
      "cell_type": "code",
      "execution_count": 105,
      "metadata": {
        "id": "AFye6XzXc0je"
      },
      "outputs": [
        {
          "name": "stdout",
          "output_type": "stream",
          "text": [
            "1.0 0.0\n",
            "[0.08582131 0.78659464 0.69456318 0.53250602 0.23091806 0.04925437\n",
            " 1.         0.4596136  0.72092982 0.55757584 0.96451837 0.36915553\n",
            " 0.41208317 0.78315599 0.30450425 0.67385358 0.65554435 0.8283873\n",
            " 0.28450074 0.69635422 0.32141706 0.93909264 0.71550731 0.86788903\n",
            " 0.90522565 0.0746154  0.03180424 0.12847784 0.68121943 0.48366672\n",
            " 0.71685039 0.22881548 0.88272353 0.63295515 0.59820251 0.42783406\n",
            " 0.86635841 0.79935645 0.89285617 0.59465006 0.32887969 0.97411971\n",
            " 0.76129502 0.96291944 0.85456162 0.07037409 0.26558096 0.62850171\n",
            " 0.08543649 0.39282682 0.23870254 0.26359661 0.49262377 0.19432787\n",
            " 0.43861258 0.9140674  0.61953455 0.76230017 0.15252648 0.02212983\n",
            " 0.02755551 0.80984793 0.48836096 0.77727966 0.12593625 0.56491952\n",
            " 0.93364904 0.14395613 0.         0.86282159 0.96205121 0.02802475\n",
            " 0.86759963 0.01642095 0.81070688 0.03691542 0.05327542 0.02636107\n",
            " 0.63704704 0.57676406 0.19282679 0.45378133 0.84334302 0.38042447\n",
            " 0.71011184 0.89714135 0.94357086 0.49049004 0.66999316 0.17455379\n",
            " 0.15494818 0.43599898 0.33779914 0.11043327 0.33467319 0.83948743\n",
            " 0.5830583  0.7363084  0.04539474 0.07440561]\n"
          ]
        }
      ],
      "source": [
        "my_array = np.random.random(100)\n",
        "# если я правильно понял задачу, то нормализовать массив не надо, \n",
        "# а надо именно заменить максимальный и минимальный элементы на 1 и 0 соответственно\n",
        "# print(np.max(my_array), np.min(my_array))\n",
        "# print(my_array)\n",
        "my_array[np.argmax(my_array)] = 1\n",
        "my_array[np.argmin(my_array)] = 0\n",
        "\n",
        "print(np.max(my_array), np.min(my_array))\n",
        "print(my_array)"
      ]
    },
    {
      "cell_type": "markdown",
      "metadata": {
        "id": "D84Jpwmmc0je"
      },
      "source": [
        "Создайте array размером $5 \\times 6$ с целыми числами в интервале [0,50]. Напечатайте колонку, которая содержит максимальный элемент полученной матрицы"
      ]
    },
    {
      "cell_type": "code",
      "execution_count": 103,
      "metadata": {
        "id": "SXaKW9bec0je"
      },
      "outputs": [
        {
          "name": "stdout",
          "output_type": "stream",
          "text": [
            "мах.value: 49\n",
            "Shape:  (5, 6)\n",
            "Array\n",
            "[[29 23 14  3 25 19]\n",
            " [49 12 20 31 43 22]\n",
            " [31 19 45 46 49 35]\n",
            " [ 7  9 47 16 43 15]\n",
            " [33 42  3 33  8 14]]\n",
            "Column with max val:\n",
            "[29 49 31  7 33]\n"
          ]
        }
      ],
      "source": [
        "my_array = np.random.randint(0, 50, size=(5,6))\n",
        "# selected_column = ## Your code here\n",
        "col_numb = np.argmax(my_array) % my_array.shape[1]\n",
        "# Транспонируем матрицу что бы вывести строку вместо колонки\n",
        "my_array_t = my_array.T\n",
        "print(f\"мах.value: {np.max(my_array)}\")\n",
        "print('Shape: ',my_array.shape)\n",
        "print('Array')\n",
        "print(my_array)\n",
        "print('Column with max val:')\n",
        "print(my_array_t[col_numb])\n"
      ]
    },
    {
      "cell_type": "markdown",
      "metadata": {
        "id": "g3scUf0_c0je"
      },
      "source": [
        "Напишите функцию, которая принимает на вход матрицу (array) X и возвращает все её уникальные строки в виде новой матрицы."
      ]
    },
    {
      "cell_type": "code",
      "execution_count": 116,
      "metadata": {
        "id": "75j1Kyzvc0je"
      },
      "outputs": [],
      "source": [
        "def get_unique_rows(X):\n",
        "    X_unique = np.unique(X, axis=0)\n",
        "    return X_unique"
      ]
    },
    {
      "cell_type": "code",
      "execution_count": 114,
      "metadata": {
        "id": "HzY-9KwGc0je"
      },
      "outputs": [
        {
          "name": "stdout",
          "output_type": "stream",
          "text": [
            "[[4 4 5]\n",
            " [4 5 5]\n",
            " [4 5 4]\n",
            " [4 4 5]\n",
            " [5 4 4]\n",
            " [4 5 4]\n",
            " [4 4 4]\n",
            " [5 5 5]\n",
            " [4 5 5]\n",
            " [5 5 5]\n",
            " [4 5 4]\n",
            " [5 5 5]\n",
            " [4 5 5]\n",
            " [5 4 4]\n",
            " [4 4 5]\n",
            " [5 5 5]\n",
            " [4 4 5]\n",
            " [4 5 4]\n",
            " [5 5 4]\n",
            " [4 4 4]]\n"
          ]
        }
      ],
      "source": [
        "X = np.random.randint(4, 6, size=(20,3))\n",
        "print(X)"
      ]
    },
    {
      "cell_type": "code",
      "execution_count": 122,
      "metadata": {
        "id": "UiAM62AGc0jf"
      },
      "outputs": [
        {
          "name": "stdout",
          "output_type": "stream",
          "text": [
            "[[4 4 4]\n",
            " [4 4 5]\n",
            " [4 5 4]\n",
            " [4 5 5]\n",
            " [5 4 4]\n",
            " [5 5 4]\n",
            " [5 5 5]]\n"
          ]
        }
      ],
      "source": [
        "unique_row=get_unique_rows(X)\n",
        "print(unique_row)"
      ]
    }
  ],
  "metadata": {
    "colab": {
      "provenance": []
    },
    "kernelspec": {
      "display_name": "Python 3",
      "language": "python",
      "name": "python3"
    },
    "language_info": {
      "codemirror_mode": {
        "name": "ipython",
        "version": 3
      },
      "file_extension": ".py",
      "mimetype": "text/x-python",
      "name": "python",
      "nbconvert_exporter": "python",
      "pygments_lexer": "ipython3",
      "version": "3.13.2"
    },
    "varInspector": {
      "cols": {
        "lenName": 16,
        "lenType": 16,
        "lenVar": 40
      },
      "kernels_config": {
        "python": {
          "delete_cmd_postfix": "",
          "delete_cmd_prefix": "del ",
          "library": "var_list.py",
          "varRefreshCmd": "print(var_dic_list())"
        },
        "r": {
          "delete_cmd_postfix": ") ",
          "delete_cmd_prefix": "rm(",
          "library": "var_list.r",
          "varRefreshCmd": "cat(var_dic_list()) "
        }
      },
      "types_to_exclude": [
        "module",
        "function",
        "builtin_function_or_method",
        "instance",
        "_Feature"
      ],
      "window_display": false
    }
  },
  "nbformat": 4,
  "nbformat_minor": 0
}
